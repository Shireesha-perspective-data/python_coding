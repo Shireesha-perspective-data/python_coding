{
 "cells": [
  {
   "cell_type": "markdown",
   "id": "bae94891",
   "metadata": {},
   "source": [
    "# 2Q. write a pgm  prime numbers\n"
   ]
  },
  {
   "cell_type": "code",
   "execution_count": 2,
   "id": "6cd655fb",
   "metadata": {},
   "outputs": [
    {
     "name": "stdout",
     "output_type": "stream",
     "text": [
      "2\n",
      "3\n",
      "5\n",
      "7\n",
      "11\n",
      "13\n",
      "17\n",
      "19\n"
     ]
    }
   ],
   "source": [
    "def number(n,m):\n",
    "    for num in range(n,m):\n",
    "        if num>1:\n",
    "            for j in range(2,num):\n",
    "                if num%j==0:\n",
    "                    break;\n",
    "                #else:\n",
    "                 #   print(\"\")\n",
    "                    \n",
    "            else:\n",
    "                    print(num)\n",
    "        \n",
    "                    \n",
    "number(1,20)"
   ]
  },
  {
   "cell_type": "code",
   "execution_count": null,
   "id": "0ad5091f",
   "metadata": {},
   "outputs": [],
   "source": []
  }
 ],
 "metadata": {
  "kernelspec": {
   "display_name": "Python 3 (ipykernel)",
   "language": "python",
   "name": "python3"
  },
  "language_info": {
   "codemirror_mode": {
    "name": "ipython",
    "version": 3
   },
   "file_extension": ".py",
   "mimetype": "text/x-python",
   "name": "python",
   "nbconvert_exporter": "python",
   "pygments_lexer": "ipython3",
   "version": "3.9.7"
  }
 },
 "nbformat": 4,
 "nbformat_minor": 5
}
