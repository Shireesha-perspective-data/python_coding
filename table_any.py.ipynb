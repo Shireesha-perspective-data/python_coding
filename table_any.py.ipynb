{
 "cells": [
  {
   "cell_type": "markdown",
   "id": "2fef1d30",
   "metadata": {},
   "source": [
    "# 4Q. write program if any one  table\n"
   ]
  },
  {
   "cell_type": "code",
   "execution_count": null,
   "id": "57b943fb",
   "metadata": {},
   "outputs": [],
   "source": [
    "i=8;\n",
    "table=int(input(\"which one table we want:\"))\n",
    "while i<=10:\n",
    "    print(\"%d x %d=%d\\n\"%(table,i,table*i))\n",
    "    i=i+1"
   ]
  },
  {
   "cell_type": "code",
   "execution_count": null,
   "id": "6340f038",
   "metadata": {},
   "outputs": [],
   "source": []
  }
 ],
 "metadata": {
  "kernelspec": {
   "display_name": "Python 3 (ipykernel)",
   "language": "python",
   "name": "python3"
  },
  "language_info": {
   "codemirror_mode": {
    "name": "ipython",
    "version": 3
   },
   "file_extension": ".py",
   "mimetype": "text/x-python",
   "name": "python",
   "nbconvert_exporter": "python",
   "pygments_lexer": "ipython3",
   "version": "3.9.7"
  }
 },
 "nbformat": 4,
 "nbformat_minor": 5
}
