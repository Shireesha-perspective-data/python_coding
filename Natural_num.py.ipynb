{
 "cells": [
  {
   "cell_type": "markdown",
   "id": "7855cc3f",
   "metadata": {},
   "source": [
    "# 7Q.Write a program Natural numbers"
   ]
  },
  {
   "cell_type": "code",
   "execution_count": 2,
   "id": "2e9bfc9e",
   "metadata": {},
   "outputs": [
    {
     "name": "stdout",
     "output_type": "stream",
     "text": [
      "0\n",
      "1\n",
      "2\n",
      "3\n",
      "4\n",
      "5\n",
      "6\n",
      "7\n",
      "8\n",
      "9\n",
      "10\n"
     ]
    }
   ],
   "source": [
    "#Q:5 write a pgm Natural numbeers\n",
    "def Na(values):\n",
    "    for n in range(values+1):\n",
    "        var=n+0\n",
    "        print (var)\n",
    "Na(10)\n",
    "#Na(5)"
   ]
  }
 ],
 "metadata": {
  "kernelspec": {
   "display_name": "Python 3 (ipykernel)",
   "language": "python",
   "name": "python3"
  },
  "language_info": {
   "codemirror_mode": {
    "name": "ipython",
    "version": 3
   },
   "file_extension": ".py",
   "mimetype": "text/x-python",
   "name": "python",
   "nbconvert_exporter": "python",
   "pygments_lexer": "ipython3",
   "version": "3.9.7"
  }
 },
 "nbformat": 4,
 "nbformat_minor": 5
}
