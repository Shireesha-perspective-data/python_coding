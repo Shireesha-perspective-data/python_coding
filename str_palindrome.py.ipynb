{
 "cells": [
  {
   "cell_type": "markdown",
   "id": "a9d79898",
   "metadata": {},
   "source": [
    "# 2Q.Given string is  palindrom are not"
   ]
  },
  {
   "cell_type": "code",
   "execution_count": 2,
   "id": "36e420c1",
   "metadata": {},
   "outputs": [
    {
     "name": "stdout",
     "output_type": "stream",
     "text": [
      "it is a palindrom\n",
      "not a palindrome\n",
      "it is a palindrom\n"
     ]
    },
    {
     "data": {
      "text/plain": [
       "'\\nhere inside a function we are write a block of code to perform any perticular task is finished.the function reusabily\\nmore and more,if any where we want to data then it access it means the code reusability and the coding part is \\nless(minimize the coding) \\n\\n'"
      ]
     },
     "execution_count": 2,
     "metadata": {},
     "output_type": "execute_result"
    }
   ],
   "source": [
    "def text(sample):\n",
    "    sample=str(sample) # here sample data is  converted to string form \n",
    "    reverse_sample=sample[::-1]# reverse the string\n",
    "    if sample==reverse_sample:   # to check the if condition ( its also write if sample==sample[::-1])\n",
    "        print(\"it is a palindrom\")  \n",
    "    else:\n",
    "        print(\"not a palindrome\")\n",
    "text(\"madam\")\n",
    "text(\"0134\")\n",
    "text(1221) \n",
    "'''\n",
    "here inside a function we are write a block of code to perform any perticular task is finished.the function reusabily\n",
    "more and more,if any where we want to data then it access it means the code reusability and the coding part is \n",
    "less(minimize the coding) \n",
    "\n",
    "'''"
   ]
  }
 ],
 "metadata": {
  "kernelspec": {
   "display_name": "Python 3 (ipykernel)",
   "language": "python",
   "name": "python3"
  },
  "language_info": {
   "codemirror_mode": {
    "name": "ipython",
    "version": 3
   },
   "file_extension": ".py",
   "mimetype": "text/x-python",
   "name": "python",
   "nbconvert_exporter": "python",
   "pygments_lexer": "ipython3",
   "version": "3.9.7"
  }
 },
 "nbformat": 4,
 "nbformat_minor": 5
}
