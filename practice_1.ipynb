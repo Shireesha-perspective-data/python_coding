{
 "cells": [
  {
   "cell_type": "code",
   "execution_count": 1,
   "id": "684dc369",
   "metadata": {},
   "outputs": [
    {
     "name": "stdout",
     "output_type": "stream",
     "text": [
      "p\n",
      "y\n",
      "t\n",
      "h\n",
      "o\n",
      "n\n"
     ]
    }
   ],
   "source": [
    "str=\"python\"\n",
    "for i in str:\n",
    "    print(i)"
   ]
  },
  {
   "cell_type": "code",
   "execution_count": 7,
   "id": "daa24c23",
   "metadata": {},
   "outputs": [
    {
     "name": "stdout",
     "output_type": "stream",
     "text": [
      "n\n",
      "o\n",
      "h\n",
      "t\n",
      "y\n",
      "P\n"
     ]
    }
   ],
   "source": [
    "str=\"Python\"\n",
    "for i in str[::-1]:\n",
    "    print(i)"
   ]
  },
  {
   "cell_type": "code",
   "execution_count": 11,
   "id": "ec4fd229",
   "metadata": {},
   "outputs": [
    {
     "name": "stdout",
     "output_type": "stream",
     "text": [
      "n\n",
      "o\n",
      "h\n",
      "t\n",
      "y\n",
      "p\n"
     ]
    }
   ],
   "source": [
    "def fun(str):\n",
    "    for i in str[::-1]:\n",
    "        print(i)\n",
    "fun(\"python\")"
   ]
  },
  {
   "cell_type": "code",
   "execution_count": 15,
   "id": "76e648ee",
   "metadata": {},
   "outputs": [
    {
     "name": "stdout",
     "output_type": "stream",
     "text": [
      "10\n",
      "10\n",
      "10\n",
      "10\n",
      "10\n",
      "hi\n"
     ]
    }
   ],
   "source": [
    "x=10\n",
    "for i in range(5):\n",
    "    print(x)\n",
    "print(\"hi\")"
   ]
  },
  {
   "cell_type": "code",
   "execution_count": 27,
   "id": "f173abef",
   "metadata": {},
   "outputs": [
    {
     "name": "stdout",
     "output_type": "stream",
     "text": [
      "123\n",
      "123\n",
      "123\n",
      "123\n",
      "123\n",
      "4\n",
      "123\n"
     ]
    }
   ],
   "source": [
    "x=10\n",
    "for i in range(5):  #range(5)=(0,1,2,3,4)\n",
    "    x=123\n",
    "    print(x)\n",
    "print(i)\n",
    "print(x)"
   ]
  },
  {
   "cell_type": "code",
   "execution_count": 40,
   "id": "1c8192b7",
   "metadata": {},
   "outputs": [
    {
     "name": "stdout",
     "output_type": "stream",
     "text": [
      "\n",
      "1 \n",
      "2 2 \n",
      "3 3 3 \n",
      "4 4 4 4 \n",
      "5 5 5 5 5 \n",
      "\n"
     ]
    },
    {
     "data": {
      "text/plain": [
       "'\\nnext to take the val i=1\\n'"
      ]
     },
     "execution_count": 40,
     "metadata": {},
     "output_type": "execute_result"
    }
   ],
   "source": [
    "for i in range(6):  # here range(6)=(0,1,2,3,4,5). to take the value 0\n",
    "    for j in range(i): # for j in i means for j in range() take (0,0) it false then not execute \n",
    "        print(i,end=\" \")\n",
    "    print()\n",
    "print()\n",
    "\n",
    "'''\n",
    "next to take the val i=1\n",
    "'''"
   ]
  },
  {
   "cell_type": "code",
   "execution_count": 1,
   "id": "af05ae6a",
   "metadata": {},
   "outputs": [
    {
     "name": "stdout",
     "output_type": "stream",
     "text": [
      "0 0 0 \n",
      "1 1 1 \n",
      "2 2 2 \n",
      "3 3 3 \n",
      "4 4 4 \n"
     ]
    },
    {
     "data": {
      "text/plain": [
       "'\\niter 1:\\n   i=0:\\n     j=0\\n     j=1\\n     j=2\\n    print(space)\\niter 2:\\n    i=1\\n'"
      ]
     },
     "execution_count": 1,
     "metadata": {},
     "output_type": "execute_result"
    }
   ],
   "source": [
    "for i in range(5): #i=0\n",
    "    for j in range(3): #i=0\n",
    "        print(i,end=\" \")\n",
    "    print()\n",
    "\n",
    "'''\n",
    "iter 1:\n",
    "   i=0:\n",
    "     j=0\n",
    "     j=1\n",
    "     j=2\n",
    "    print(space)\n",
    "iter 2:\n",
    "    i=1\n",
    "'''"
   ]
  },
  {
   "cell_type": "code",
   "execution_count": 51,
   "id": "766fa4f3",
   "metadata": {},
   "outputs": [
    {
     "name": "stdout",
     "output_type": "stream",
     "text": [
      "0\n",
      "0\n",
      "0\n",
      "1\n",
      "1\n",
      "1\n"
     ]
    }
   ],
   "source": [
    "for i in range(2):\n",
    "    for j in range(3):\n",
    "        print(i)"
   ]
  },
  {
   "cell_type": "code",
   "execution_count": 53,
   "id": "471d5c34",
   "metadata": {},
   "outputs": [
    {
     "name": "stdout",
     "output_type": "stream",
     "text": [
      "0\n",
      "1\n",
      "2\n",
      "3\n",
      "\n",
      "0\n",
      "1\n",
      "2\n",
      "3\n",
      "\n"
     ]
    }
   ],
   "source": [
    "for i in range(2):\n",
    "    for j in range(4):\n",
    "        print(j)\n",
    "    print()"
   ]
  },
  {
   "cell_type": "code",
   "execution_count": 58,
   "id": "d3b9783a",
   "metadata": {},
   "outputs": [
    {
     "name": "stdout",
     "output_type": "stream",
     "text": [
      "\n",
      "1 \n",
      "2 2 \n",
      "3 3 3 \n",
      "4 4 4 4 \n"
     ]
    }
   ],
   "source": [
    "for i in range(5):\n",
    "    for j in range(i):\n",
    "        print(i,end=\" \")\n",
    "    print()"
   ]
  },
  {
   "cell_type": "code",
   "execution_count": 68,
   "id": "32efb0e6",
   "metadata": {},
   "outputs": [
    {
     "name": "stdout",
     "output_type": "stream",
     "text": [
      "-------\n",
      "6\n",
      "*  -------\n",
      "0\n",
      "*  *  -------\n",
      "1\n",
      "*  *  *  -------\n",
      "2\n",
      "*  *  *  *  -------\n",
      "3\n",
      "*  *  *  *  *  -------\n",
      "4\n",
      "*  *  *  *  *  *  -------\n",
      "5\n",
      "*  *  *  *  *  *  *  -------\n",
      "6\n"
     ]
    }
   ],
   "source": [
    "for i in range(8):\n",
    "    for j in range(i):\n",
    "        print(\"* \",end=\" \")\n",
    "    print(\"-------\")\n",
    "    print(j)"
   ]
  },
  {
   "cell_type": "code",
   "execution_count": 16,
   "id": "7cdc96ff",
   "metadata": {},
   "outputs": [
    {
     "data": {
      "text/plain": [
       "'[2, 4, 6, 8, 10, 12, 14, 16, 18, 20, 22, 24, 26, 28, 30, 32, 34, 36, 38, 40, 42, 44, 46, 48, 50, 52, 54, 56, 58, 60, 62, 64, 66, 68, 70]'"
      ]
     },
     "execution_count": 16,
     "metadata": {},
     "output_type": "execute_result"
    }
   ],
   "source": [
    "def multiples_num(n):\n",
    "    return str(list([n*i for i in range(1,36)]))\n",
    "multiples_num(5)\n",
    "\n",
    "multiples_num(2)"
   ]
  },
  {
   "cell_type": "code",
   "execution_count": 80,
   "id": "2b6dd3e6",
   "metadata": {},
   "outputs": [
    {
     "name": "stdout",
     "output_type": "stream",
     "text": [
      "[11, 12, 13, 21, 22, 23, 21, 22, 23]\n"
     ]
    }
   ],
   "source": [
    "# l1=[10,20,20]\n",
    "# l2=[1,2,3]\n",
    "l3=[]\n",
    "for i in [10,20,20]:\n",
    "    for j in [1,2,3]:\n",
    "        l3.append(i+j)\n",
    "print(l3)"
   ]
  },
  {
   "cell_type": "code",
   "execution_count": 81,
   "id": "2426e92f",
   "metadata": {},
   "outputs": [
    {
     "name": "stdout",
     "output_type": "stream",
     "text": [
      "[11, 12, 13, 14, 21, 22, 23, 24, 31, 32, 33, 34]\n"
     ]
    }
   ],
   "source": [
    "print([i+j for i in [10,20,30] for j in [1,2,3,4]])"
   ]
  },
  {
   "cell_type": "code",
   "execution_count": 87,
   "id": "84ad9733",
   "metadata": {},
   "outputs": [
    {
     "name": "stdout",
     "output_type": "stream",
     "text": [
      "['n', 'e']\n"
     ]
    }
   ],
   "source": [
    "print([i[-1] for i in [\"python\",\"DAtaScience\"]])"
   ]
  },
  {
   "cell_type": "code",
   "execution_count": 90,
   "id": "a24af2e8",
   "metadata": {},
   "outputs": [
    {
     "name": "stdout",
     "output_type": "stream",
     "text": [
      "[['AX', 'bX', 'cX'], ['Ay', 'by', 'cy'], ['Az', 'bz', 'cz']]\n"
     ]
    }
   ],
   "source": [
    "print([[i+j for i in \"Abc\"]for j in \"Xyz\"])"
   ]
  },
  {
   "cell_type": "code",
   "execution_count": 2,
   "id": "ae4a9e6a",
   "metadata": {},
   "outputs": [
    {
     "name": "stdout",
     "output_type": "stream",
     "text": [
      "20\n",
      "10\n"
     ]
    }
   ],
   "source": [
    "x=10  #globle variable\n",
    "def fun(): #define a function fun()\n",
    "    x=20 #local variable\n",
    "    print(x) # x=20 \n",
    "#print(x)\n",
    "fun()\n",
    "print(x)  # x=10"
   ]
  },
  {
   "cell_type": "code",
   "execution_count": 1,
   "id": "43e46844",
   "metadata": {},
   "outputs": [
    {
     "data": {
      "text/plain": [
       "'PYTHON'"
      ]
     },
     "execution_count": 1,
     "metadata": {},
     "output_type": "execute_result"
    },
    {
     "name": "stdout",
     "output_type": "stream",
     "text": [
      "ERROR! Session/line number was not unique in database. History logging moved to new session 366\n"
     ]
    }
   ],
   "source": [
    "\"python\".swapcase()"
   ]
  },
  {
   "cell_type": "code",
   "execution_count": 3,
   "id": "53201a06",
   "metadata": {},
   "outputs": [
    {
     "data": {
      "text/plain": [
       "'Python'"
      ]
     },
     "execution_count": 3,
     "metadata": {},
     "output_type": "execute_result"
    }
   ],
   "source": [
    "\"python\".capitalize()"
   ]
  },
  {
   "cell_type": "code",
   "execution_count": 4,
   "id": "1558dd55",
   "metadata": {},
   "outputs": [
    {
     "data": {
      "text/plain": [
       "'datascience'"
      ]
     },
     "execution_count": 4,
     "metadata": {},
     "output_type": "execute_result"
    }
   ],
   "source": [
    "\"DataScience\".casefold()"
   ]
  },
  {
   "cell_type": "code",
   "execution_count": 8,
   "id": "03ff017b",
   "metadata": {},
   "outputs": [
    {
     "data": {
      "text/plain": [
       "'Data scence and python are the very important to the job market'"
      ]
     },
     "execution_count": 8,
     "metadata": {},
     "output_type": "execute_result"
    }
   ],
   "source": [
    "\"data Science and Python are the very important to the job market\".capitalize()"
   ]
  },
  {
   "cell_type": "code",
   "execution_count": 2,
   "id": "cd67ded7",
   "metadata": {},
   "outputs": [
    {
     "data": {
      "text/plain": [
       "'data science'"
      ]
     },
     "execution_count": 2,
     "metadata": {},
     "output_type": "execute_result"
    }
   ],
   "source": [
    "\"data science\""
   ]
  },
  {
   "cell_type": "code",
   "execution_count": 31,
   "id": "af8fed76",
   "metadata": {},
   "outputs": [
    {
     "data": {
      "text/plain": [
       "((2, 1), [2, 1, 3, 4, 5])"
      ]
     },
     "execution_count": 31,
     "metadata": {},
     "output_type": "execute_result"
    }
   ],
   "source": [
    "l=[1,2,3,4,5]\n",
    "l1=[]\n",
    "def fun(l):\n",
    "    l1=l[0],l[1]=l[1],l[0]\n",
    "    #l2=list[l[0],l[1],l[2],l[3],l[4]]\n",
    "    return l1,list(l[::1])\n",
    "fun(l=[1,2,3,4,5])"
   ]
  },
  {
   "cell_type": "code",
   "execution_count": 24,
   "id": "185e7b4b",
   "metadata": {},
   "outputs": [
    {
     "name": "stdout",
     "output_type": "stream",
     "text": [
      "4\n"
     ]
    }
   ],
   "source": [
    "#To print the odd numbers and how many odd  numbers in a given list \n",
    "l=[1,3,4,5,6,8,9]\n",
    "print(len([i for i in l if(i%2!=0)]))"
   ]
  },
  {
   "cell_type": "code",
   "execution_count": 35,
   "id": "f6793e15",
   "metadata": {},
   "outputs": [
    {
     "name": "stdout",
     "output_type": "stream",
     "text": [
      "odd 3\n",
      "even 2\n",
      "odd 5\n",
      "even 4\n",
      "even 6\n",
      "even 6\n",
      "odd 1\n",
      "odd 7\n",
      "even 8\n"
     ]
    }
   ],
   "source": [
    "def fun(l):\n",
    "    count=[]\n",
    "    for i in l:\n",
    "        if i%2==0:\n",
    "            print(\"even\",i)\n",
    "        else:\n",
    "            print(\"odd\",i)\n",
    "fun([3,2,5,4,6,6,1,7,8])"
   ]
  },
  {
   "cell_type": "code",
   "execution_count": 6,
   "id": "6d9cb967",
   "metadata": {},
   "outputs": [
    {
     "name": "stdout",
     "output_type": "stream",
     "text": [
      "7\n",
      "9\n",
      "5\n",
      "11\n",
      "1\n"
     ]
    }
   ],
   "source": [
    "# print the prime numbers\n",
    "def fun(l):\n",
    "    count=1;\n",
    "    for i in l:\n",
    "        if i%2==1:\n",
    "            #count+=1\n",
    "            print(i)\n",
    "    return count\n",
    "print(fun([2,4,7,9,4,5,6,11]))"
   ]
  },
  {
   "cell_type": "code",
   "execution_count": 37,
   "id": "19416a2e",
   "metadata": {},
   "outputs": [
    {
     "name": "stdout",
     "output_type": "stream",
     "text": [
      "[2, 4, 6, 8]\n",
      "[2, 3, 4, 5, 6, 8]\n"
     ]
    }
   ],
   "source": [
    "# l=[2,3,4,5,6,8]\n",
    "# l1=[2,3,4,5,8,1,1]\n",
    "def fun(l):\n",
    "    even=[i for i in l if i%2==0]\n",
    "    odd=[j for j in l]\n",
    "    print(even)\n",
    "    print(odd)\n",
    "    \n",
    "fun([2,3,4,5,6,8])"
   ]
  },
  {
   "cell_type": "code",
   "execution_count": 40,
   "id": "efc20dc8",
   "metadata": {},
   "outputs": [],
   "source": [
    "l=[]\n",
    "if l:\n",
    "    print(\"hi\")"
   ]
  },
  {
   "cell_type": "code",
   "execution_count": 41,
   "id": "bbf16f69",
   "metadata": {},
   "outputs": [
    {
     "name": "stdout",
     "output_type": "stream",
     "text": [
      "helo\n"
     ]
    }
   ],
   "source": [
    "l1=[1,2]\n",
    "if l1:\n",
    "    print(\"helo\")"
   ]
  },
  {
   "cell_type": "code",
   "execution_count": 45,
   "id": "37062245",
   "metadata": {},
   "outputs": [
    {
     "name": "stdout",
     "output_type": "stream",
     "text": [
      "list of elements [2, 3, 4, 5]\n",
      "Now list becomes empty []\n"
     ]
    }
   ],
   "source": [
    "def fun(l):\n",
    "    if l:\n",
    "        print(\"list of elements\",l)\n",
    "        l.clear()\n",
    "        print(\"Now list becomes empty\",l)\n",
    "    else:\n",
    "        print(\"list is already empty\",l)\n",
    "fun([2,3,4,5])"
   ]
  },
  {
   "cell_type": "code",
   "execution_count": 1,
   "id": "776ab822",
   "metadata": {},
   "outputs": [
    {
     "name": "stdout",
     "output_type": "stream",
     "text": [
      "e 6\n",
      "e 6\n",
      "e 6\n",
      "[[6, 6, 6]]\n",
      "s 1\n",
      "s 1\n",
      "s 1\n",
      "[[6, 6, 6, 1, 1, 1]]\n",
      "e 8\n",
      "e 8\n",
      "e 8\n",
      "[[6, 6, 6, 1, 1, 1, 8, 8, 8]]\n"
     ]
    },
    {
     "data": {
      "text/plain": [
       "('trace_value of Matrix:', 3)"
      ]
     },
     "execution_count": 1,
     "metadata": {},
     "output_type": "execute_result"
    }
   ],
   "source": [
    "list=[]\n",
    "sum=0\n",
    "def matrix_f(matrix,n):\n",
    "    for i in range(n):\n",
    "        for j in range(n):\n",
    "            sum=matrix[i][i]\n",
    "            if sum%2==0:\n",
    "                list.append(sum-5)\n",
    "                print(\"s\",sum-5)\n",
    "            else:\n",
    "                list.append(sum+5)\n",
    "                print(\"e\",sum+5)\n",
    "        print([list])\n",
    "    return \"trace_value of Matrix:\",sum\n",
    "matrix_f([[1,6,3],[1,6,3],[1,8,3]],3)            "
   ]
  },
  {
   "cell_type": "code",
   "execution_count": 26,
   "id": "8d43346f",
   "metadata": {},
   "outputs": [
    {
     "name": "stdout",
     "output_type": "stream",
     "text": [
      "[1, 3, 6, 7, 8, 4, 1, 6, 'green']\n"
     ]
    }
   ],
   "source": [
    "l=[1,3,6,7,8,4,1,6]\n",
    "#l.append(\"friend\") # To add 9 element in the end of the list\n",
    "l.extend([\"green\"])\n",
    "print(l)"
   ]
  },
  {
   "cell_type": "code",
   "execution_count": 243,
   "id": "a3697c07",
   "metadata": {},
   "outputs": [
    {
     "name": "stdout",
     "output_type": "stream",
     "text": [
      "deleting val -2\n",
      "add val to the 2nd ele:  9\n",
      "deleting val 0\n",
      "deleting val 1\n",
      "deleting val 4\n"
     ]
    },
    {
     "data": {
      "text/plain": [
       "([3, 4, 5, 6, 9],\n",
       " [3, 4, 5, 6, 9, 3, 4, 5, 6, 9, 3, 4, 5, 6, 9, 3, 4, 5, 6, 9, 3, 4, 5, 6, 9])"
      ]
     },
     "execution_count": 243,
     "metadata": {},
     "output_type": "execute_result"
    }
   ],
   "source": [
    "def fun(list):\n",
    "    list=[3,4,5,6]\n",
    "    v=[]\n",
    "    list.append(9)\n",
    "    for i in list:\n",
    "        if i==4:\n",
    "            print(\"add val to the 2nd ele: \",i+5)\n",
    "        else:\n",
    "            print(\"deleting val\",i-5)\n",
    "        v.extend(list)\n",
    "    return list,v\n",
    "fun(list=[3,4,5,6])"
   ]
  },
  {
   "cell_type": "code",
   "execution_count": 44,
   "id": "0d76a84a",
   "metadata": {},
   "outputs": [
    {
     "name": "stdout",
     "output_type": "stream",
     "text": [
      "3\n",
      "['apple', 'banana', 'cherry', 'hey']\n",
      "['abc', 'xyz', 'JKL', 'apple', 'banana', 'cherry']\n",
      "4\n"
     ]
    }
   ],
   "source": [
    "thislist = [\"apple\", \"banana\", \"cherry\"]\n",
    "print(len(thislist))\n",
    "tropic=[\"abc\",\"xyz\",\"JKL\"]\n",
    "tropic.extend(thislist)\n",
    "tropical = [\"mango\", \"pineapple\", \"papaya\"]\n",
    "#thislist.insert(1,tropical)\n",
    "thislist.insert(100,\"hey\")\n",
    "\n",
    "print(thislist)\n",
    "print(tropic)\n",
    "print(len(thislist))\n"
   ]
  },
  {
   "cell_type": "code",
   "execution_count": 47,
   "id": "5e7e64ce",
   "metadata": {},
   "outputs": [
    {
     "name": "stdout",
     "output_type": "stream",
     "text": [
      "{'hi': 1, 'hey': 1, 'wow': 1, 'pascal': 1, 'mango': 2}\n"
     ]
    }
   ],
   "source": [
    "l=[\"hi\",\"hey\",\"wow\",\"pascal\",\"mango\",\"mango\"]\n",
    "print({each:l.count(each) for each in l})"
   ]
  },
  {
   "cell_type": "code",
   "execution_count": 48,
   "id": "1c16c20a",
   "metadata": {},
   "outputs": [
    {
     "name": "stdout",
     "output_type": "stream",
     "text": [
      "{2: 2, 3: 2, 4: 2, 1: 2, 5: 1, 6: 1, 9: 1, 0: 2}\n"
     ]
    }
   ],
   "source": [
    "ls=[2,3,4,1,4,5,6,3,2,9,0,1,0]\n",
    "print({each:ls.count(each) for each in ls})"
   ]
  },
  {
   "cell_type": "code",
   "execution_count": 67,
   "id": "b93e2280",
   "metadata": {},
   "outputs": [
    {
     "name": "stdout",
     "output_type": "stream",
     "text": [
      "0 0 1 1 1 1 1 1 1 1 1 1 1 1 1 1 1 1 1 1 1 1 1 1 1 1 1 1 1 1 1 1 1 1 1 1 1 1 1 1 1 1 1 1 1 1 1 1 1 2 \n"
     ]
    }
   ],
   "source": [
    "sample=\"hiz thhis the python explanation and DataScience z\"\n",
    "count=0;\n",
    "for i in sample:\n",
    "    if (i==\"z\"):\n",
    "        count=count+1\n",
    "    print(count,end=\" \")\n",
    "print()\n"
   ]
  },
  {
   "cell_type": "code",
   "execution_count": 129,
   "id": "8466273c",
   "metadata": {},
   "outputs": [
    {
     "name": "stdout",
     "output_type": "stream",
     "text": [
      "0 0 0 0 0 0 0 1 1 1 1 2 2 2 2 2 2 "
     ]
    },
    {
     "data": {
      "text/plain": [
       "'hiii hat ant rare'"
      ]
     },
     "execution_count": 129,
     "metadata": {},
     "output_type": "execute_result"
    }
   ],
   "source": [
    "# Count an perticular charactor.\n",
    "#here \"t\" is  the 2 chars in a given string\n",
    "def fun(s):\n",
    "    count=0;\n",
    "    for i in s:\n",
    "        if (i==\"t\"):\n",
    "            count=count+1\n",
    "        print(count,end=\" \")\n",
    "    return s\n",
    "fun(s=\"hiii hat ant rare\")"
   ]
  },
  {
   "cell_type": "code",
   "execution_count": 84,
   "id": "f52a4aa3",
   "metadata": {},
   "outputs": [
    {
     "data": {
      "text/plain": [
       "[{'h': 5,\n",
       "  'i': 4,\n",
       "  'z': 2,\n",
       "  ' ': 7,\n",
       "  't': 5,\n",
       "  's': 1,\n",
       "  'e': 4,\n",
       "  'p': 2,\n",
       "  'y': 1,\n",
       "  'o': 2,\n",
       "  'n': 5,\n",
       "  'x': 1,\n",
       "  'l': 1,\n",
       "  'a': 5,\n",
       "  'd': 1,\n",
       "  'D': 1,\n",
       "  'S': 1,\n",
       "  'c': 2}]"
      ]
     },
     "execution_count": 84,
     "metadata": {},
     "output_type": "execute_result"
    }
   ],
   "source": [
    "# Count charactors in a given string.   \n",
    "#samp=\"hiz thhis the python explanation and DataScience z\"\n",
    "def fun(samp):\n",
    "    return ([{each:samp.count(each) for each in samp}])\n",
    "fun(samp=\"hiz thhis the python explanation and DataScience z\")"
   ]
  },
  {
   "cell_type": "code",
   "execution_count": 102,
   "id": "a0fdbee8",
   "metadata": {},
   "outputs": [
    {
     "name": "stdout",
     "output_type": "stream",
     "text": [
      "[2, 3, 4, 5, 6, 7, 8, 9, 1]\n"
     ]
    }
   ],
   "source": [
    "# create a list \n",
    "#to add a element in a list\n",
    "list_e=[2,3,4,5,6,7,8,9]\n",
    "list_e.append(1) # to add the element to end of the list \n",
    "print(list_e)\n"
   ]
  },
  {
   "cell_type": "code",
   "execution_count": 133,
   "id": "e955801f",
   "metadata": {},
   "outputs": [
    {
     "data": {
      "text/plain": [
       "[1, 2, 3, 4, 5, 6, 7, 8, 9, 1]"
      ]
     },
     "execution_count": 133,
     "metadata": {},
     "output_type": "execute_result"
    }
   ],
   "source": [
    "#To add a element to starting a list \n",
    "def fun(list_e):\n",
    "    list_e.insert(0,1)\n",
    "    return list_e\n",
    "fun([2, 3, 4, 5, 6, 7, 8, 9, 1])"
   ]
  },
  {
   "cell_type": "code",
   "execution_count": 110,
   "id": "eb72aea6",
   "metadata": {},
   "outputs": [
    {
     "name": "stdout",
     "output_type": "stream",
     "text": [
      "[4, 5, 6, 4]\n"
     ]
    }
   ],
   "source": [
    "# To add a element in a list\n",
    "# append()- add a element to end of the list\n",
    "def fun(lst):\n",
    "    #lst=[4,5,6]\n",
    "    lst.append(4) # add an element at the end of a list\n",
    "    return lst\n",
    "print(fun(lst=[4,5,6]))"
   ]
  },
  {
   "cell_type": "code",
   "execution_count": 114,
   "id": "6bf98eee",
   "metadata": {},
   "outputs": [
    {
     "data": {
      "text/plain": [
       "[5, 6, 456, 7]"
      ]
     },
     "execution_count": 114,
     "metadata": {},
     "output_type": "execute_result"
    }
   ],
   "source": [
    "# To add an element in a index of 2\n",
    "#lst=[5,6,7]\n",
    "def fun(lst):\n",
    "    lst.insert(2,456)\n",
    "    return lst\n",
    "fun([5,6,7])"
   ]
  },
  {
   "cell_type": "code",
   "execution_count": 127,
   "id": "b59503a7",
   "metadata": {},
   "outputs": [
    {
     "name": "stdout",
     "output_type": "stream",
     "text": [
      "3\n"
     ]
    },
    {
     "data": {
      "text/plain": [
       "([6, 245, 7], [435600, 1, 23, 3], [1, 0, 4, 5, 333, 435600, 1, 23, 3])"
      ]
     },
     "execution_count": 127,
     "metadata": {},
     "output_type": "execute_result"
    }
   ],
   "source": [
    "def fun(lst,lsts,ex_lst):\n",
    "    lst.insert(2,245) # add an element instead of a index of 2\n",
    "    lst.pop(0)  # pop the zero element in a list  \n",
    "    #print(lst)\n",
    "    lsts.insert(0,435600) \n",
    "    ex_lst.extend(lsts)  #To append elements from another list to the current list, use the extend() method.\n",
    "    return lst,lsts,ex_lst\n",
    "print(len(lst))\n",
    "fun([5,6,7],[1,23,3],[1,0,4,5,333])\n",
    "# print(len(lst))"
   ]
  },
  {
   "cell_type": "code",
   "execution_count": 130,
   "id": "30f499e9",
   "metadata": {},
   "outputs": [
    {
     "data": {
      "text/plain": [
       "[4, 56, 6]"
      ]
     },
     "execution_count": 130,
     "metadata": {},
     "output_type": "execute_result"
    }
   ],
   "source": [
    "#  Zero Index of a element is pop(delete).  \n",
    "def fun(lst):\n",
    "    lst.pop(0) # pop the element in a list\n",
    "    return lst\n",
    "fun([3,4,56,6])"
   ]
  },
  {
   "cell_type": "code",
   "execution_count": 156,
   "id": "96a36001",
   "metadata": {},
   "outputs": [
    {
     "data": {
      "text/plain": [
       "[3, 4, 5, 6, 0, 1, 2, 3, 66666, 7, 8, 9, 10, 11, 15]"
      ]
     },
     "execution_count": 156,
     "metadata": {},
     "output_type": "execute_result"
    }
   ],
   "source": [
    "# To append elements from the another list to the current list,use the extend()method.\n",
    "def fun(list_ele,list_val):\n",
    "    list_ele.extend(list_val)\n",
    "    return list_ele\n",
    "fun([3,4,5,6,0,1,2,3,66666],[7,8,9,10,11,15])#......."
   ]
  },
  {
   "cell_type": "code",
   "execution_count": 15,
   "id": "810456e3",
   "metadata": {},
   "outputs": [
    {
     "data": {
      "text/plain": [
       "[1, 2, 'Animals', 'items', 'variables', 5, 'Rabbit']"
      ]
     },
     "execution_count": 15,
     "metadata": {},
     "output_type": "execute_result"
    }
   ],
   "source": [
    "# List operations\n",
    "#####list.append(),pop(),insert() takes exactly one argument\n",
    "#list=[(3,2.5,5,6,\"hey\",7,6,\"hi\"),1,2,3,4,5,8,45]\n",
    "def fun(list):\n",
    "    list.pop(0) #index of zero (3,2.5,5,6,'hey',7,6,'hi') is pop    \n",
    "    list.append(\"Rabbit\")  # to add an element at the end of the list\n",
    "    list.insert(2,\"Animals\") # insert the 'Animals' instead of 2\n",
    "    list[3]={\"List\",\"Elements\"}\n",
    "    list[3:5]=[\"items\",\"variables\"]\n",
    "    return list\n",
    "\n",
    "fun(list=[(3,2.5,5,6,\"hey\",7,6,\"hi\"),1,2,3,4,5,]) "
   ]
  },
  {
   "cell_type": "code",
   "execution_count": 166,
   "id": "87abbe96",
   "metadata": {},
   "outputs": [
    {
     "name": "stdout",
     "output_type": "stream",
     "text": [
      "<class 'list'>\n",
      "<class 'tuple'>\n",
      "<class 'dict'>\n",
      "<class 'set'>\n"
     ]
    }
   ],
   "source": [
    "# To find the data types\n",
    "lq=[\"apple\",\"mango\",\"banana\",9,2.4,76,\"adb\"]\n",
    "ls=(\"abc\",\"xys\",2,2.6,5)\n",
    "ld={\"age\":24,\"name\":\"Rakesh\",\"salary\":65000}\n",
    "lset={1,2,3,4,5,3,3,\"abs\",\"jkl\"}\n",
    "print(type(lq))\n",
    "print(type(ls))\n",
    "print(type(ld))\n",
    "print(type(lset))"
   ]
  },
  {
   "cell_type": "code",
   "execution_count": 17,
   "id": "6b057b4c",
   "metadata": {},
   "outputs": [
    {
     "name": "stdout",
     "output_type": "stream",
     "text": [
      "(2, 3, 4, 5, 6, 6)\n"
     ]
    },
    {
     "data": {
      "text/plain": [
       "(2, 3, 4, 5, 6, 6)"
      ]
     },
     "execution_count": 17,
     "metadata": {},
     "output_type": "execute_result"
    }
   ],
   "source": [
    "#To print the tuple of elements\n",
    "def fun(mylist):\n",
    "    return mylist\n",
    "fun(mylist=((2,3,4,5,6,6)))"
   ]
  },
  {
   "cell_type": "code",
   "execution_count": 184,
   "id": "25c971ab",
   "metadata": {},
   "outputs": [
    {
     "name": "stdout",
     "output_type": "stream",
     "text": [
      "{2, 3, 4, 5, 6}\n"
     ]
    }
   ],
   "source": [
    "mylist=set([2,3,4,5,6,6]) #list is the mutable. It can be changeable,modified.\n",
    "print(mylist)"
   ]
  },
  {
   "cell_type": "code",
   "execution_count": 188,
   "id": "52343b02",
   "metadata": {},
   "outputs": [
    {
     "name": "stdout",
     "output_type": "stream",
     "text": [
      "{2, 3, 4, 5, 6}\n"
     ]
    }
   ],
   "source": [
    "#list, dict are the Mutable Objects.\n",
    "#tuple is the Immutable Object\n",
    "mylist=set((2,3,4,5,6,6))  #Tuple is an immutable object can't changed after it is created.\n",
    "print(mylist)"
   ]
  },
  {
   "cell_type": "code",
   "execution_count": 189,
   "id": "2a2960cb",
   "metadata": {},
   "outputs": [
    {
     "name": "stdout",
     "output_type": "stream",
     "text": [
      "{'banana', 'apple', 'cherry'}\n",
      "[{'set', 'cat', 2, 3.5}]\n"
     ]
    }
   ],
   "source": [
    "thislist = set([\"apple\", \"banana\", \"cherry\"]) # note the double round-brackets\n",
    "thisl=[{\"set\",\"cat\",2,3.5}]\n",
    "print(thislist)\n",
    "print(thisl)"
   ]
  },
  {
   "cell_type": "markdown",
   "id": "9ca8fe47",
   "metadata": {},
   "source": [
    "#### There are four collection data types in the Python programming language:\n",
    "\n",
    "List: is a collection which is ordered and changeable. Allows duplicate members.\n",
    "\n",
    "Tuple: is a collection which is ordered and unchangeable. Allows duplicate members.\n",
    "\n",
    "Set: is a collection which is unordered, unchangeable*, and unindexed. No duplicate members.\n",
    "\n",
    "Dictionary: is a collection which is ordered** and changeable. No duplicate members.\n",
    "\n",
    "*Set items are unchangeable, but you can remove and/or add items whenever you like.\n",
    "\n",
    "**As of Python version 3.7, dictionaries are ordered. In Python 3.6 and earlier, dictionaries are unordered.\n",
    "\n",
    "When choosing a collection type, it is useful to understand the properties of that type. Choosing the right type for a particular data set could mean retention of meaning, and, it could mean an increase in efficiency or security.\n",
    "\n"
   ]
  },
  {
   "cell_type": "code",
   "execution_count": 200,
   "id": "0386133c",
   "metadata": {},
   "outputs": [
    {
     "name": "stdout",
     "output_type": "stream",
     "text": [
      "[4, 5, 'computer']\n",
      "[2, 3, 4, 5]\n",
      "computer\n",
      "[2, 3, 4, 5, 'computer']\n",
      "[2, 3, 4, 5, 'computer']\n",
      "[2]\n"
     ]
    }
   ],
   "source": [
    "l=[2,3,4,5,\"computer\"]\n",
    "print(l[2:5])\n",
    "print(l[:4])\n",
    "print(l[-1])\n",
    "print(l[::])\n",
    "print(l[0:])\n",
    "print(l[:1])"
   ]
  },
  {
   "cell_type": "code",
   "execution_count": 209,
   "id": "32b8150e",
   "metadata": {},
   "outputs": [
    {
     "name": "stdout",
     "output_type": "stream",
     "text": [
      "yes,'mango' is the fruits list: mango\n"
     ]
    }
   ],
   "source": [
    "fruits_list=[\"apple\",\"mango\",\"banana\"]\n",
    "for i in fruits_list:\n",
    "    if i==\"mango\":\n",
    "        print( \"yes,'mango' is the fruits list:\",i)\n"
   ]
  },
  {
   "cell_type": "code",
   "execution_count": 190,
   "id": "a62a67b4",
   "metadata": {},
   "outputs": [
    {
     "name": "stdout",
     "output_type": "stream",
     "text": [
      "['orange', 'kiwi', 'melon']\n"
     ]
    }
   ],
   "source": [
    "thislist = [\"apple\", \"banana\", \"cherry\", \"orange\", \"kiwi\", \"melon\", \"mango\"]\n",
    "print(thislist[-4:-1])\n",
    "\n",
    "#Negative indexing means starting from the end of the list.\n",
    "\n",
    "#This example returns the items from index -4 (included) to index -1 (excluded)\n",
    "\n",
    "#Remember that the last item has the index -1,\n",
    "\n"
   ]
  },
  {
   "cell_type": "code",
   "execution_count": 219,
   "id": "203ee50d",
   "metadata": {},
   "outputs": [
    {
     "name": "stdout",
     "output_type": "stream",
     "text": [
      "['mango', 'Apricot', 'Kiwi', 'Lime']\n"
     ]
    }
   ],
   "source": [
    "list_lst=[\"mango\",\"custard Apple\",\"Grapes\",\"Dragon fruit\"]\n",
    "#list_lst[1]=\"balck barry\"  #instead of index 1 \"black barry\"; if we want to multiple items are add to the listthen we use [:]\n",
    "list_lst[1:4]=[\"Apricot\",\"Kiwi\",\"Lime\"]\n",
    "#list_lst.append(\"berry\")  # To add item to end of the list\n",
    "#list_lst.insert(2,\"cherry\")   # To accupy the index of 2\n",
    "print(list_lst)"
   ]
  },
  {
   "cell_type": "code",
   "execution_count": null,
   "id": "714249b7",
   "metadata": {},
   "outputs": [],
   "source": [
    "def fun(list):\n",
    "    count=0\n",
    "    for each in list:\n",
    "        count="
   ]
  },
  {
   "cell_type": "code",
   "execution_count": 27,
   "id": "37e316ce",
   "metadata": {},
   "outputs": [
    {
     "name": "stdout",
     "output_type": "stream",
     "text": [
      "{'apple': 1, 'banana': 1, 'watermelon': 1, 'blaky': 1, 'hel': 1, 'joky': 1, 'hokey': 1, 'cherry': 1, 'mango': 1}\n",
      "{'apple': 1, 'banana': 1, 'watermelon': 1, 'blaky': 1, 'hel': 1, 'joky': 1, 'hokey': 1, 'cherry': 1, 'mango': 1}\n",
      "{'apple': 1, 'banana': 1, 'watermelon': 1, 'blaky': 1, 'hel': 1, 'joky': 1, 'hokey': 1, 'cherry': 1, 'mango': 1}\n",
      "{'apple': 1, 'banana': 1, 'watermelon': 1, 'blaky': 1, 'hel': 1, 'joky': 1, 'hokey': 1, 'cherry': 1, 'mango': 1}\n",
      "{'apple': 1, 'banana': 1, 'watermelon': 1, 'blaky': 1, 'hel': 1, 'joky': 1, 'hokey': 1, 'cherry': 1, 'mango': 1}\n",
      "{'apple': 1, 'banana': 1, 'watermelon': 1, 'blaky': 1, 'hel': 1, 'joky': 1, 'hokey': 1, 'cherry': 1, 'mango': 1}\n",
      "{'apple': 1, 'banana': 1, 'watermelon': 1, 'blaky': 1, 'hel': 1, 'joky': 1, 'hokey': 1, 'cherry': 1, 'mango': 1}\n",
      "{'apple': 1, 'banana': 1, 'watermelon': 1, 'blaky': 1, 'hel': 1, 'joky': 1, 'hokey': 1, 'cherry': 1, 'mango': 1}\n",
      "{'apple': 1, 'banana': 1, 'watermelon': 1, 'blaky': 1, 'hel': 1, 'joky': 1, 'hokey': 1, 'cherry': 1, 'mango': 1}\n",
      "['apple', 'banana', 'watermelon', 'blaky', 'hel', 'joky', 'hokey', 'cherry', 'mango']\n"
     ]
    }
   ],
   "source": [
    "thislist = [\"apple\", \"banana\", \"cherry\",\"mango\"]\n",
    "\n",
    "thislist[2:2] = [\"watermelon\",\"blaky\",\"hel\",\"joky\",\"hokey\"]\n",
    "for each in thislist:\n",
    "    print({each:thislist.count(each) for each in thislist})\n",
    "        #print(val)\n",
    "    #print(val)\n",
    "print(thislist)\n"
   ]
  },
  {
   "cell_type": "code",
   "execution_count": 19,
   "id": "8847a7ea",
   "metadata": {},
   "outputs": [
    {
     "name": "stdout",
     "output_type": "stream",
     "text": [
      "watermelon\n",
      "blaky\n",
      "hel\n",
      "joky\n",
      "hokey\n",
      "watermelon\n",
      "blaky\n",
      "hel\n",
      "joky\n",
      "hokey\n",
      "watermelon\n",
      "blaky\n",
      "hel\n",
      "joky\n",
      "hokey\n",
      "watermelon\n",
      "blaky\n",
      "hel\n",
      "joky\n",
      "hokey\n",
      "watermelon\n",
      "blaky\n",
      "hel\n",
      "joky\n",
      "hokey\n"
     ]
    },
    {
     "data": {
      "text/plain": [
       "'hokey'"
      ]
     },
     "execution_count": 19,
     "metadata": {},
     "output_type": "execute_result"
    }
   ],
   "source": [
    "def fun(this_lst):\n",
    "    count=0;\n",
    "    for i in range(len(this_lst)):\n",
    "        for each in this_lst:\n",
    "            print(each)\n",
    "    return each\n",
    "\n",
    "fun(this_lst=[\"watermelon\",\"blaky\",\"hel\",\"joky\",\"hokey\"])"
   ]
  },
  {
   "cell_type": "code",
   "execution_count": 82,
   "id": "9b2ab433",
   "metadata": {},
   "outputs": [
    {
     "name": "stdout",
     "output_type": "stream",
     "text": [
      "1 w 1 a 1 t 2 e 1 r 1 m 2 e 1 l 1 o 1 n \n",
      "1 b 1 l 1 a 1 k 1 y \n",
      "1 h 1 e 1 l \n",
      "1 j 1 o 1 k 1 y \n",
      "1 h 1 o 1 k 1 e 1 y \n",
      "items\n"
     ]
    }
   ],
   "source": [
    "this_lst=[\"watermelon\",\"blaky\",\"hel\",\"joky\",\"hokey\"]\n",
    "for item in this_lst:  #range(len(this_lst)):\n",
    "    for each in item:\n",
    "        print(item.count(each),each,end=\" \")\n",
    "    print(\"\")\n",
    "print(\"items\")\n",
    "    \n",
    "    "
   ]
  },
  {
   "cell_type": "code",
   "execution_count": 7,
   "id": "188795c6",
   "metadata": {},
   "outputs": [
    {
     "data": {
      "text/plain": [
       "[1, 2, 3, 4, 2, 3, 4, 1]"
      ]
     },
     "execution_count": 7,
     "metadata": {},
     "output_type": "execute_result"
    }
   ],
   "source": [
    "#we want to duplicates values \n",
    "l=[1,2,3,4,5,6,2,3,4,1]\n",
    "[i for i in l if l.count(i)>1]"
   ]
  },
  {
   "cell_type": "code",
   "execution_count": 6,
   "id": "6ae6e346",
   "metadata": {},
   "outputs": [
    {
     "data": {
      "text/plain": [
       "{1, 2, 3, 4}"
      ]
     },
     "execution_count": 6,
     "metadata": {},
     "output_type": "execute_result"
    }
   ],
   "source": [
    "set([i for i in l if l.count(i)>1])"
   ]
  },
  {
   "cell_type": "code",
   "execution_count": 30,
   "id": "7862e1c6",
   "metadata": {},
   "outputs": [
    {
     "data": {
      "text/plain": [
       "({1, 2, 3, 4}, 10)"
      ]
     },
     "execution_count": 30,
     "metadata": {},
     "output_type": "execute_result"
    }
   ],
   "source": [
    "# To write a pgm to print duplicatesd values and also sum of them\n",
    "def fun(values):\n",
    "    #return set([i for i in values if values.count(i)>1])\n",
    "    p=set([i for i in values if values.count(i)>1])\n",
    "    return p, sum(p) \n",
    "fun([1,2,3,4,5,6,2,3,4,1])"
   ]
  },
  {
   "cell_type": "code",
   "execution_count": 34,
   "id": "48e9a473",
   "metadata": {},
   "outputs": [
    {
     "data": {
      "text/plain": [
       "[3, 4, 5, 6, 7, 1]"
      ]
     },
     "execution_count": 34,
     "metadata": {},
     "output_type": "execute_result"
    }
   ],
   "source": [
    "# To write a code to unique values in a given list\n",
    "lst_val=[2,3,4,5,6,7,8,8,2,1,2]\n",
    "[i for i in lst_val if lst_val.count(i)<=1]"
   ]
  },
  {
   "cell_type": "code",
   "execution_count": 68,
   "id": "16a3ae99",
   "metadata": {},
   "outputs": [
    {
     "data": {
      "text/plain": [
       "([3, 4, 5, 5, 6, 7, 7, 8], [5, 5, 7, 7], {5: 2, 7: 2})"
      ]
     },
     "execution_count": 68,
     "metadata": {},
     "output_type": "execute_result"
    }
   ],
   "source": [
    "def fun(lst_val):\n",
    "    v=[i for i in lst_val if lst_val.count(i)>1]\n",
    "    c={i:lst_val.count(i) for i in lst_val if lst_val.count(i)>1 }\n",
    "    return lst_val,v,c\n",
    "fun([3,4,5,5,6,7,7,8])"
   ]
  },
  {
   "cell_type": "code",
   "execution_count": 79,
   "id": "28b78ea1",
   "metadata": {},
   "outputs": [
    {
     "name": "stdout",
     "output_type": "stream",
     "text": [
      "enter 1st val:654\n",
      "enter 2nd val:2000\n",
      "(654, '1st value is the less than the 2nd ')\n"
     ]
    }
   ],
   "source": [
    "# a=64\n",
    "# b=54\n",
    "a=int(input(\"enter 1st val:\"))\n",
    "b=int(input(\"enter 2nd val:\"))\n",
    "s=((a,\"1st value is the less than the 2nd \") if (a<b) else (b,\"1st value is the greater than 2nd val:\",b))\n",
    "print(s)"
   ]
  },
  {
   "cell_type": "code",
   "execution_count": 105,
   "id": "d163de51",
   "metadata": {},
   "outputs": [
    {
     "name": "stdout",
     "output_type": "stream",
     "text": [
      "a<b  4 5\n",
      "a>b 6 3\n",
      "a<b  0 1\n",
      "please enter the  diff value 0 0\n",
      "please enter the  diff value 1 1\n",
      "a>b z h\n",
      "please enter the  diff value a a\n"
     ]
    }
   ],
   "source": [
    "def fun(a,b):\n",
    "    if a>b:\n",
    "        print(\"a>b\",a,b)\n",
    "    elif a<b :\n",
    "        print(\"a<b \",a,b)\n",
    "    else:\n",
    "        print(\"please enter the  diff value\",a,b)\n",
    "fun(4,5)\n",
    "fun(6,3)\n",
    "fun(0,1)\n",
    "fun(0,0)\n",
    "fun(1,1)\n",
    "fun(\"z\",\"h\")\n",
    "fun(\"a\",\"a\")"
   ]
  },
  {
   "cell_type": "code",
   "execution_count": 1,
   "id": "88461183",
   "metadata": {},
   "outputs": [
    {
     "name": "stdout",
     "output_type": "stream",
     "text": [
      "6\n",
      "[1, 1, 2, 3, 'a', 'b', 3.0, 3]\n",
      "{1, 3}\n",
      "4\n",
      "['a', 'b', 3.0, 3]\n",
      "{1: 'a', 3: 'b', 2: 'd'}\n",
      "pROGRAMMINGiNpYTHON\n"
     ]
    }
   ],
   "source": [
    "l1=[1,2,3,\"a\",\"b\",3.0]\n",
    "print(len(l1))\n",
    "l1.append(3)\n",
    "l1.insert(0,1)\n",
    "print(l1)\n",
    "\n",
    "l2=set([i for i in l1 if l1.count(i)>1])\n",
    "print(l2)\n",
    "print(l1.index(\"a\"))\n",
    "print(l1[4:])\n",
    "dict1={1:\"a\",3:\"b\",2:\"d\"}\n",
    "print(dict1)\n",
    "str1=\"ProgrammingInPython\"\n",
    "str2=str1.swapcase()\n",
    "print(str2)\n",
    "\n"
   ]
  },
  {
   "cell_type": "code",
   "execution_count": 3,
   "id": "a3b74d7b",
   "metadata": {},
   "outputs": [
    {
     "name": "stdout",
     "output_type": "stream",
     "text": [
      "False\n"
     ]
    }
   ],
   "source": [
    "dictlang={'c#':6,'GO':89,'python':4,'RUST':10}\n",
    "cpydict=dictlang.copy()\n",
    "print(id(cpydict)==id(dictlang))"
   ]
  },
  {
   "cell_type": "code",
   "execution_count": 18,
   "id": "778fb776",
   "metadata": {},
   "outputs": [
    {
     "name": "stdout",
     "output_type": "stream",
     "text": [
      "6\n"
     ]
    }
   ],
   "source": [
    "dictlang={'c#':6,'GO':89,'python':4,'RUST':10}\n",
    "dictlang.keys()\n",
    "dictlang.values()\n",
    "print(dictlang['c#'])"
   ]
  },
  {
   "cell_type": "code",
   "execution_count": 15,
   "id": "c9d7fc0c",
   "metadata": {},
   "outputs": [
    {
     "name": "stdout",
     "output_type": "stream",
     "text": [
      "3007977617536\n"
     ]
    }
   ],
   "source": [
    "d={2:\"red\",4:'red',6:'jkl'}\n",
    "d.keys()\n",
    "print(id(d))"
   ]
  },
  {
   "cell_type": "code",
   "execution_count": 29,
   "id": "87f31171",
   "metadata": {},
   "outputs": [
    {
     "name": "stdout",
     "output_type": "stream",
     "text": [
      "3007977656256\n",
      "3007977656128\n",
      "True\n"
     ]
    }
   ],
   "source": [
    "dictlang={'c#':6,'GO':89,'python':4,'RUST':10}\n",
    "cpydict=dictlang.copy()\n",
    "print(id(cpydict))\n",
    "print(id(dictlang))\n",
    "\n",
    "print(id(cpydict)!=id(dictlang))"
   ]
  },
  {
   "cell_type": "code",
   "execution_count": 54,
   "id": "86c34bde",
   "metadata": {},
   "outputs": [
    {
     "name": "stdout",
     "output_type": "stream",
     "text": [
      "Dog\n"
     ]
    },
    {
     "data": {
      "text/plain": [
       "{'age': 45, 'weight': 45, 'country': 'US', 'city': 'California'}"
      ]
     },
     "execution_count": 54,
     "metadata": {},
     "output_type": "execute_result"
    }
   ],
   "source": [
    "animaldict={'name':'Dog','age':45,'weight':45,'country':'US','city':'California'}\n",
    "animaldicts=animaldict.pop('name')\n",
    "print(animaldicts)\n",
    "animaldict"
   ]
  },
  {
   "cell_type": "code",
   "execution_count": 7,
   "id": "f9baac4b",
   "metadata": {},
   "outputs": [
    {
     "name": "stdout",
     "output_type": "stream",
     "text": [
      "True\n"
     ]
    }
   ],
   "source": [
    "h=[3,\"hi\",3.4,9,4]\n",
    "x=all(h)\n",
    "print(x)"
   ]
  },
  {
   "cell_type": "code",
   "execution_count": 12,
   "id": "f654f7bb",
   "metadata": {},
   "outputs": [
    {
     "name": "stdout",
     "output_type": "stream",
     "text": [
      "True\n",
      "True\n"
     ]
    }
   ],
   "source": [
    "k=[1,2,3,4,5]\n",
    "j=[1,1,1,11111]\n",
    "print(all(k))\n",
    "print(all(j))"
   ]
  },
  {
   "cell_type": "code",
   "execution_count": 14,
   "id": "c42daafe",
   "metadata": {},
   "outputs": [
    {
     "data": {
      "text/plain": [
       "False"
      ]
     },
     "execution_count": 14,
     "metadata": {},
     "output_type": "execute_result"
    }
   ],
   "source": [
    "j=[1,1,1,11111,1,0]\n",
    "all(j)"
   ]
  },
  {
   "cell_type": "code",
   "execution_count": 20,
   "id": "886b5710",
   "metadata": {},
   "outputs": [
    {
     "name": "stdout",
     "output_type": "stream",
     "text": [
      "True\n",
      "dict_keys([1, 2])\n"
     ]
    }
   ],
   "source": [
    "mydict = {1: \"Apple\", 2: \"Orange\"}\n",
    "x = all(mydict)\n",
    "y=mydict.keys()\n",
    "print(x)\n",
    "print(y)\n"
   ]
  },
  {
   "cell_type": "code",
   "execution_count": 2,
   "id": "499ec6f5",
   "metadata": {},
   "outputs": [
    {
     "data": {
      "text/plain": [
       "\"['siri']\""
      ]
     },
     "execution_count": 2,
     "metadata": {},
     "output_type": "execute_result"
    }
   ],
   "source": [
    "l=['siri']\n",
    "ascii(l)\n",
    "#print(ascii(l))\n",
    "# k=['feho']\n",
    "# print(k)"
   ]
  },
  {
   "cell_type": "code",
   "execution_count": 1,
   "id": "546160c4",
   "metadata": {},
   "outputs": [
    {
     "data": {
      "text/plain": [
       "\"['s', 'd', 's']\""
      ]
     },
     "execution_count": 1,
     "metadata": {},
     "output_type": "execute_result"
    }
   ],
   "source": [
    "l=[34,4,5,6,7]\n",
    "s=[\"s\",\"d\",\"s\"]\n",
    "ascii(s)\n",
    "#ascii(l)"
   ]
  },
  {
   "cell_type": "code",
   "execution_count": 10,
   "id": "681fdae6",
   "metadata": {},
   "outputs": [
    {
     "data": {
      "text/plain": [
       "('helo', 'oleh')"
      ]
     },
     "execution_count": 10,
     "metadata": {},
     "output_type": "execute_result"
    }
   ],
   "source": [
    "def fun(str):\n",
    "    return str, str[::-1]\n",
    "fun(str=\"helo\")"
   ]
  }
 ],
 "metadata": {
  "kernelspec": {
   "display_name": "Python 3 (ipykernel)",
   "language": "python",
   "name": "python3"
  },
  "language_info": {
   "codemirror_mode": {
    "name": "ipython",
    "version": 3
   },
   "file_extension": ".py",
   "mimetype": "text/x-python",
   "name": "python",
   "nbconvert_exporter": "python",
   "pygments_lexer": "ipython3",
   "version": "3.9.7"
  }
 },
 "nbformat": 4,
 "nbformat_minor": 5
}
