{
 "cells": [
  {
   "cell_type": "markdown",
   "id": "c2cb0955",
   "metadata": {},
   "source": [
    "# 3Q. write a program upto 11 tables"
   ]
  },
  {
   "cell_type": "code",
   "execution_count": 5,
   "id": "4e6768c0",
   "metadata": {},
   "outputs": [
    {
     "name": "stdout",
     "output_type": "stream",
     "text": [
      "tables..\n",
      "1 x 1 = 1  1 x 2 = 2  1 x 3 = 3  1 x 4 = 4  1 x 5 = 5  1 x 6 = 6  1 x 7 = 7  1 x 8 = 8  1 x 9 = 9  1 x 10 = 10  tables..\n",
      "2 x 1 = 2  2 x 2 = 4  2 x 3 = 6  2 x 4 = 8  2 x 5 = 10  2 x 6 = 12  2 x 7 = 14  2 x 8 = 16  2 x 9 = 18  2 x 10 = 20  tables..\n",
      "3 x 1 = 3  3 x 2 = 6  3 x 3 = 9  3 x 4 = 12  3 x 5 = 15  3 x 6 = 18  3 x 7 = 21  3 x 8 = 24  3 x 9 = 27  3 x 10 = 30  tables..\n",
      "4 x 1 = 4  4 x 2 = 8  4 x 3 = 12  4 x 4 = 16  4 x 5 = 20  4 x 6 = 24  4 x 7 = 28  4 x 8 = 32  4 x 9 = 36  4 x 10 = 40  tables..\n",
      "5 x 1 = 5  5 x 2 = 10  5 x 3 = 15  5 x 4 = 20  5 x 5 = 25  5 x 6 = 30  5 x 7 = 35  5 x 8 = 40  5 x 9 = 45  5 x 10 = 50  tables..\n",
      "6 x 1 = 6  6 x 2 = 12  6 x 3 = 18  6 x 4 = 24  6 x 5 = 30  6 x 6 = 36  6 x 7 = 42  6 x 8 = 48  6 x 9 = 54  6 x 10 = 60  tables..\n",
      "7 x 1 = 7  7 x 2 = 14  7 x 3 = 21  7 x 4 = 28  7 x 5 = 35  7 x 6 = 42  7 x 7 = 49  7 x 8 = 56  7 x 9 = 63  7 x 10 = 70  tables..\n",
      "8 x 1 = 8  8 x 2 = 16  8 x 3 = 24  8 x 4 = 32  8 x 5 = 40  8 x 6 = 48  8 x 7 = 56  8 x 8 = 64  8 x 9 = 72  8 x 10 = 80  tables..\n",
      "9 x 1 = 9  9 x 2 = 18  9 x 3 = 27  9 x 4 = 36  9 x 5 = 45  9 x 6 = 54  9 x 7 = 63  9 x 8 = 72  9 x 9 = 81  9 x 10 = 90  tables..\n",
      "10 x 1 = 10  10 x 2 = 20  10 x 3 = 30  10 x 4 = 40  10 x 5 = 50  10 x 6 = 60  10 x 7 = 70  10 x 8 = 80  10 x 9 = 90  10 x 10 = 100  tables..\n",
      "11 x 1 = 11  11 x 2 = 22  11 x 3 = 33  11 x 4 = 44  11 x 5 = 55  11 x 6 = 66  11 x 7 = 77  11 x 8 = 88  11 x 9 = 99  11 x 10 = 110  "
     ]
    }
   ],
   "source": [
    "# I wanto 1 to 11 table want\n",
    "def numeric():\n",
    "    for i in range(1,12):  # here the ranging is 1 to 11(i.e n-1).how many table we want\n",
    "        print(\"tables..\")   #here to print some string statement here we only used to the understanding the precess  \n",
    "        for j in range(1,11):\n",
    "            print(i,'x',j,'=',i*j,end=\"  \")\n",
    "numeric()\n",
    "        "
   ]
  },
  {
   "cell_type": "code",
   "execution_count": null,
   "id": "ed7719d6",
   "metadata": {},
   "outputs": [],
   "source": []
  }
 ],
 "metadata": {
  "kernelspec": {
   "display_name": "Python 3 (ipykernel)",
   "language": "python",
   "name": "python3"
  },
  "language_info": {
   "codemirror_mode": {
    "name": "ipython",
    "version": 3
   },
   "file_extension": ".py",
   "mimetype": "text/x-python",
   "name": "python",
   "nbconvert_exporter": "python",
   "pygments_lexer": "ipython3",
   "version": "3.9.7"
  }
 },
 "nbformat": 4,
 "nbformat_minor": 5
}
