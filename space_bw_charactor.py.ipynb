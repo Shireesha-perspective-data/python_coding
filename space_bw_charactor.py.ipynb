{
 "cells": [
  {
   "cell_type": "markdown",
   "id": "feecc9d4",
   "metadata": {},
   "source": [
    "# 9Q. Write a pgm given string is going to space b/w the every charactor."
   ]
  },
  {
   "cell_type": "raw",
   "id": "97c5b605",
   "metadata": {},
   "source": [
    "def texr(sample):\n",
    "    for each in sample:     \n",
    "        return \"*\".join(sample)\n",
    "        \n",
    "#texr(\"the co2456erScience\")\n",
    "texr(\"DataScience\")\n",
    "    "
   ]
  }
 ],
 "metadata": {
  "kernelspec": {
   "display_name": "Python 3 (ipykernel)",
   "language": "python",
   "name": "python3"
  },
  "language_info": {
   "codemirror_mode": {
    "name": "ipython",
    "version": 3
   },
   "file_extension": ".py",
   "mimetype": "text/x-python",
   "name": "python",
   "nbconvert_exporter": "python",
   "pygments_lexer": "ipython3",
   "version": "3.9.7"
  }
 },
 "nbformat": 4,
 "nbformat_minor": 5
}
