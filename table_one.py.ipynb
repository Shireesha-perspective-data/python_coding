{
 "cells": [
  {
   "cell_type": "markdown",
   "id": "d9e9d1bd",
   "metadata": {},
   "source": [
    "# Q4.Write a program if any table randomly"
   ]
  },
  {
   "cell_type": "code",
   "execution_count": 1,
   "id": "949ea9ea",
   "metadata": {},
   "outputs": [
    {
     "name": "stdout",
     "output_type": "stream",
     "text": [
      "which one table we want:29\n",
      "29 x 8=232\n",
      "\n",
      "29 x 9=261\n",
      "\n",
      "29 x 10=290\n",
      "\n"
     ]
    }
   ],
   "source": [
    "#write program if any table\n",
    "i=8;# here i want to the table is started to 8  \n",
    "table=int(input(\"which one table we want:\"))\n",
    "while i<=10:\n",
    "    print(\"%d x %d=%d\\n\"%(table,i,table*i))\n",
    "    i=i+1"
   ]
  },
  {
   "cell_type": "code",
   "execution_count": null,
   "id": "c853828e",
   "metadata": {},
   "outputs": [],
   "source": []
  }
 ],
 "metadata": {
  "kernelspec": {
   "display_name": "Python 3 (ipykernel)",
   "language": "python",
   "name": "python3"
  },
  "language_info": {
   "codemirror_mode": {
    "name": "ipython",
    "version": 3
   },
   "file_extension": ".py",
   "mimetype": "text/x-python",
   "name": "python",
   "nbconvert_exporter": "python",
   "pygments_lexer": "ipython3",
   "version": "3.9.7"
  }
 },
 "nbformat": 4,
 "nbformat_minor": 5
}
