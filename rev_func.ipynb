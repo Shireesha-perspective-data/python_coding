{
 "cells": [
  {
   "cell_type": "code",
   "execution_count": null,
   "id": "7b66461d",
   "metadata": {},
   "outputs": [],
   "source": []
  },
  {
   "cell_type": "code",
   "execution_count": 4,
   "id": "162742b5",
   "metadata": {},
   "outputs": [
    {
     "data": {
      "text/plain": [
       "[1]"
      ]
     },
     "execution_count": 4,
     "metadata": {},
     "output_type": "execute_result"
    }
   ],
   "source": [
    "list_ele=[1,2,3,4,5,6,7,8,9,10]\n",
    "def reversed_ele(a_list_of_ele):\n",
    "    result=[]\n",
    "    for item in a_list_of_ele:\n",
    "        result = [item]+result\n",
    "        return result\n",
    "reversed_ele(list_ele)"
   ]
  }
 ],
 "metadata": {
  "kernelspec": {
   "display_name": "Python 3 (ipykernel)",
   "language": "python",
   "name": "python3"
  },
  "language_info": {
   "codemirror_mode": {
    "name": "ipython",
    "version": 3
   },
   "file_extension": ".py",
   "mimetype": "text/x-python",
   "name": "python",
   "nbconvert_exporter": "python",
   "pygments_lexer": "ipython3",
   "version": "3.9.7"
  }
 },
 "nbformat": 4,
 "nbformat_minor": 5
}
