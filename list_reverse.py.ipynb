{
 "cells": [
  {
   "cell_type": "markdown",
   "id": "ce62d500",
   "metadata": {},
   "source": [
    "# Q.Write the program given list is reverse order"
   ]
  },
  {
   "cell_type": "code",
   "execution_count": 5,
   "id": "6c2f1b8e",
   "metadata": {},
   "outputs": [
    {
     "data": {
      "text/plain": [
       "[6, 5, 4, 3, 2, 1]"
      ]
     },
     "execution_count": 5,
     "metadata": {},
     "output_type": "execute_result"
    }
   ],
   "source": [
    "# here we use sliceing \n",
    "def funct_(list):\n",
    "    return list[::-1]\n",
    "funct_([1,2,3,4,5,6])    "
   ]
  },
  {
   "cell_type": "code",
   "execution_count": 6,
   "id": "2c89382a",
   "metadata": {},
   "outputs": [
    {
     "data": {
      "text/plain": [
       "[99, 6, 5, 1, 34, 2]"
      ]
     },
     "execution_count": 6,
     "metadata": {},
     "output_type": "execute_result"
    }
   ],
   "source": [
    "values=[2,34,1,5,6,99]  # we are use also slicing and reverse() method\n",
    "values.reverse()\n",
    "values"
   ]
  },
  {
   "cell_type": "code",
   "execution_count": 31,
   "id": "b345575d",
   "metadata": {},
   "outputs": [
    {
     "data": {
      "text/plain": [
       "(1, 2, 5, 6, 34, 99)"
      ]
     },
     "execution_count": 31,
     "metadata": {},
     "output_type": "execute_result"
    }
   ],
   "source": [
    "values.sort() # here the given values are in asending oder we want/reverse() method is supported as sequence protocol\n",
    "tuple(values)"
   ]
  },
  {
   "cell_type": "code",
   "execution_count": 45,
   "id": "f434be6a",
   "metadata": {},
   "outputs": [
    {
     "data": {
      "text/plain": [
       "[400, 3, 99, 34, 6, 5, 2, 1]"
      ]
     },
     "execution_count": 45,
     "metadata": {},
     "output_type": "execute_result"
    }
   ],
   "source": [
    "val=[1, 2, 5, 6, 34, 99,3]\n",
    "val.insert(34,400)  # here we add the values given list.here insert() method expected 2 arguements\n",
    "val.reverse()\n",
    "val\n"
   ]
  }
 ],
 "metadata": {
  "kernelspec": {
   "display_name": "Python 3 (ipykernel)",
   "language": "python",
   "name": "python3"
  },
  "language_info": {
   "codemirror_mode": {
    "name": "ipython",
    "version": 3
   },
   "file_extension": ".py",
   "mimetype": "text/x-python",
   "name": "python",
   "nbconvert_exporter": "python",
   "pygments_lexer": "ipython3",
   "version": "3.9.7"
  }
 },
 "nbformat": 4,
 "nbformat_minor": 5
}
