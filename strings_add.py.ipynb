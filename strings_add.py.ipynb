{
 "cells": [
  {
   "cell_type": "markdown",
   "id": "5f81d550",
   "metadata": {},
   "source": [
    "# 8Q.  Add a string to the anether string"
   ]
  },
  {
   "cell_type": "code",
   "execution_count": 4,
   "id": "1c276a09",
   "metadata": {},
   "outputs": [
    {
     "data": {
      "text/plain": [
       "'def_function:the function to use any particular task are perform a block of code.reuse that particular function any where or many more times to reusability'"
      ]
     },
     "execution_count": 4,
     "metadata": {},
     "output_type": "execute_result"
    }
   ],
   "source": [
    "\n",
    "# add a string to the anether string\n",
    "def function_name(str_):\n",
    "    return str_+\"the function to use any particular task are perform a block of code.reuse that particular function any where or many more times to reusability\"\n",
    "    print(\"functions\")\n",
    "function_name(\"def_function:\")\n"
   ]
  }
 ],
 "metadata": {
  "kernelspec": {
   "display_name": "Python 3 (ipykernel)",
   "language": "python",
   "name": "python3"
  },
  "language_info": {
   "codemirror_mode": {
    "name": "ipython",
    "version": 3
   },
   "file_extension": ".py",
   "mimetype": "text/x-python",
   "name": "python",
   "nbconvert_exporter": "python",
   "pygments_lexer": "ipython3",
   "version": "3.9.7"
  }
 },
 "nbformat": 4,
 "nbformat_minor": 5
}
