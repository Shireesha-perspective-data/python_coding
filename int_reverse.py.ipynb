{
 "cells": [
  {
   "cell_type": "markdown",
   "id": "91856a44",
   "metadata": {},
   "source": [
    "# 1Q.write a program  to extract each digit from an integer in the reverse order\n",
    "'''for example 2456 is 6 5 4 2'''\n"
   ]
  },
  {
   "cell_type": "code",
   "execution_count": null,
   "id": "b6f64d5e",
   "metadata": {},
   "outputs": [],
   "source": [
    "'''for example 2456 is 6 5 4 2'''\n",
    "def fun(sample):\n",
    "    #x=\"12345\"\n",
    "    return (\" \".join(sample[::-1]))\n",
    "    \n",
    "print(fun(\"2341\"))\n",
    "    \n"
   ]
  }
 ],
 "metadata": {
  "kernelspec": {
   "display_name": "Python 3 (ipykernel)",
   "language": "python",
   "name": "python3"
  },
  "language_info": {
   "codemirror_mode": {
    "name": "ipython",
    "version": 3
   },
   "file_extension": ".py",
   "mimetype": "text/x-python",
   "name": "python",
   "nbconvert_exporter": "python",
   "pygments_lexer": "ipython3",
   "version": "3.9.7"
  }
 },
 "nbformat": 4,
 "nbformat_minor": 5
}
