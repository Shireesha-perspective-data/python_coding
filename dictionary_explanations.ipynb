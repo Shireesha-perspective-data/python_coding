{
 "cells": [
  {
   "cell_type": "markdown",
   "id": "18a94467",
   "metadata": {},
   "source": [
    "### Dictionary \n",
    " A dictionary is used to store data values in Key=value pairs.(key=value,key=value.....) and \n",
    "   a dictionary is a collection which is unordered, changeable and indexed\n",
    "\n",
    "  syntax: dict(Keyword argument)"
   ]
  },
  {
   "cell_type": "code",
   "execution_count": 7,
   "id": "164f9a33",
   "metadata": {},
   "outputs": [
    {
     "name": "stdout",
     "output_type": "stream",
     "text": [
      "{'name': 'Ronald', 'age': 46, 'salary': 850000, 'id': 100034567, 'Gender': 'Female'}\n"
     ]
    }
   ],
   "source": [
    "dict_l=dict(name=\"Ronald\",age= 46,salary= 850000,id= 100034567,Gender=\"Female\")\n",
    "print(dict_l)\n"
   ]
  },
  {
   "cell_type": "code",
   "execution_count": 12,
   "id": "a33e2619",
   "metadata": {},
   "outputs": [
    {
     "name": "stdout",
     "output_type": "stream",
     "text": [
      "{1: 'roll no', 'name': 'Raman', 'age': 45, 'salary': 23400}\n"
     ]
    }
   ],
   "source": [
    "dict_1={1:\"roll no\",'name':\"Raman\",'age':45,'salary':23400}\n",
    "print(dict_1)"
   ]
  },
  {
   "cell_type": "code",
   "execution_count": 14,
   "id": "9c92e306",
   "metadata": {},
   "outputs": [
    {
     "data": {
      "text/plain": [
       "dict_keys([1, 'name', 'age', 'salary'])"
      ]
     },
     "execution_count": 14,
     "metadata": {},
     "output_type": "execute_result"
    }
   ],
   "source": [
    "dict_1.keys()"
   ]
  },
  {
   "cell_type": "code",
   "execution_count": 16,
   "id": "12729fad",
   "metadata": {},
   "outputs": [
    {
     "data": {
      "text/plain": [
       "dict_values(['roll no', 'Raman', 45, 23400])"
      ]
     },
     "execution_count": 16,
     "metadata": {},
     "output_type": "execute_result"
    }
   ],
   "source": [
    "dict_1.values()"
   ]
  },
  {
   "cell_type": "code",
   "execution_count": 19,
   "id": "c22a3036",
   "metadata": {},
   "outputs": [
    {
     "name": "stdout",
     "output_type": "stream",
     "text": [
      "{1: 'roll no', 'name': 'Raman', 'age': 45, 'salary': 23400, 'color': 'blue'}\n"
     ]
    }
   ],
   "source": [
    "dict_1['name']\n",
    "dict_1['color']='blue'\n",
    "print(dict_1)"
   ]
  },
  {
   "cell_type": "code",
   "execution_count": 26,
   "id": "670dbae4",
   "metadata": {},
   "outputs": [
    {
     "name": "stdout",
     "output_type": "stream",
     "text": [
      "{1: 'roll no', 'name': 'Raman', 'age': 45, 'salary': 23400, 'color': 'blue', 0: 'ele'}\n",
      "6\n",
      "<class 'dict'>\n"
     ]
    }
   ],
   "source": [
    "dict_1[0]=\"ele\"\n",
    "print(dict_1)\n",
    "print(len(dict_1))\n",
    "print(type(dict_1))"
   ]
  },
  {
   "cell_type": "code",
   "execution_count": 29,
   "id": "994c6df4",
   "metadata": {},
   "outputs": [
    {
     "data": {
      "text/plain": [
       "'ele'"
      ]
     },
     "execution_count": 29,
     "metadata": {},
     "output_type": "execute_result"
    }
   ],
   "source": [
    "dict_1['name']\n",
    "dict_1[0]\n"
   ]
  },
  {
   "cell_type": "code",
   "execution_count": 31,
   "id": "fbe5b8d1",
   "metadata": {},
   "outputs": [
    {
     "data": {
      "text/plain": [
       "'Raman'"
      ]
     },
     "execution_count": 31,
     "metadata": {},
     "output_type": "execute_result"
    }
   ],
   "source": [
    "dict_1.get('name')"
   ]
  },
  {
   "cell_type": "code",
   "execution_count": 33,
   "id": "049fda79",
   "metadata": {},
   "outputs": [
    {
     "data": {
      "text/plain": [
       "dict_keys([1, 'name', 'age', 'salary', 'color', 0])"
      ]
     },
     "execution_count": 33,
     "metadata": {},
     "output_type": "execute_result"
    }
   ],
   "source": [
    "dict_1.keys()"
   ]
  },
  {
   "cell_type": "code",
   "execution_count": 35,
   "id": "a841e067",
   "metadata": {},
   "outputs": [
    {
     "name": "stdout",
     "output_type": "stream",
     "text": [
      "dict_keys([1, 'name', 'age', 'salary', 'color', 0, 'sex'])\n",
      "dict_keys([1, 'name', 'age', 'salary', 'color', 0, 'sex'])\n"
     ]
    }
   ],
   "source": [
    "x=dict_1.keys()\n",
    "print(x)\n",
    "dict_1[\"sex\"]=\"male\"\n",
    "print(x)"
   ]
  },
  {
   "cell_type": "code",
   "execution_count": 37,
   "id": "4382ddf1",
   "metadata": {},
   "outputs": [
    {
     "name": "stdout",
     "output_type": "stream",
     "text": [
      "dict_values(['roll no', 'Raman', 45, 23400, 'blue', 'ele', 'male'])\n",
      "dict_values(['roll no', 'Raman', 45, 23400, 'blue', 'ele', 'male'])\n"
     ]
    }
   ],
   "source": [
    "x=dict_1.values()\n",
    "print(x)\n",
    "dict_1[\"sex\"]=\"male\"\n",
    "print(x)"
   ]
  },
  {
   "cell_type": "code",
   "execution_count": 43,
   "id": "ccb561c4",
   "metadata": {},
   "outputs": [
    {
     "name": "stdout",
     "output_type": "stream",
     "text": [
      "dict_items([(1, 'roll no'), ('name', 'Raman'), ('age', 45), ('salary', 23400), ('color', 'blue'), (0, 'ele'), ('sex', 'male')])\n",
      "dict_items([(1, 'roll no'), ('name', 'Raman'), ('age', 45), ('salary', 23400), ('color', 'blue'), (0, 'ele'), ('sex', 'male'), ('model', 'hero')])\n"
     ]
    }
   ],
   "source": [
    "y=dict_1.items()\n",
    "print(y)\n",
    "dict_1[\"model\"]=\"hero\"\n",
    "print(y)"
   ]
  },
  {
   "cell_type": "code",
   "execution_count": 44,
   "id": "70387c8c",
   "metadata": {},
   "outputs": [
    {
     "name": "stdout",
     "output_type": "stream",
     "text": [
      "dict_items([('brand', 'Ford'), ('model', 'Mustang'), ('year', 1964)])\n",
      "dict_items([('brand', 'Ford'), ('model', 'Mustang'), ('year', 2020)])\n"
     ]
    }
   ],
   "source": [
    "car = {\n",
    "\"brand\": \"Ford\",\n",
    "\"model\": \"Mustang\",\n",
    "\"year\": 1964\n",
    "}\n",
    "\n",
    "x = car.items()\n",
    "\n",
    "print(x) #before the change\n",
    "\n",
    "car[\"year\"] = 2020\n",
    "\n",
    "print(x) #after the change\n"
   ]
  },
  {
   "cell_type": "code",
   "execution_count": 49,
   "id": "0ca80af9",
   "metadata": {},
   "outputs": [
    {
     "ename": "NameError",
     "evalue": "name 'name' is not defined",
     "output_type": "error",
     "traceback": [
      "\u001b[1;31m---------------------------------------------------------------------------\u001b[0m",
      "\u001b[1;31mNameError\u001b[0m                                 Traceback (most recent call last)",
      "\u001b[1;32m~\\AppData\\Local\\Temp/ipykernel_5452/373622671.py\u001b[0m in \u001b[0;36m<module>\u001b[1;34m\u001b[0m\n\u001b[0;32m      1\u001b[0m \u001b[0mdict_1\u001b[0m\u001b[1;33m.\u001b[0m\u001b[0mitems\u001b[0m\u001b[1;33m(\u001b[0m\u001b[1;33m)\u001b[0m\u001b[1;33m\u001b[0m\u001b[1;33m\u001b[0m\u001b[0m\n\u001b[0;32m      2\u001b[0m \u001b[1;32mif\u001b[0m \u001b[1;34m'name'\u001b[0m \u001b[1;32min\u001b[0m \u001b[0mdict_1\u001b[0m\u001b[1;33m:\u001b[0m\u001b[1;33m\u001b[0m\u001b[1;33m\u001b[0m\u001b[0m\n\u001b[1;32m----> 3\u001b[1;33m     \u001b[0mprint\u001b[0m\u001b[1;33m(\u001b[0m\u001b[1;34m\"Yes name in the dict_1 dictionary\"\u001b[0m\u001b[1;33m,\u001b[0m\u001b[0mname\u001b[0m\u001b[1;33m)\u001b[0m\u001b[1;33m\u001b[0m\u001b[1;33m\u001b[0m\u001b[0m\n\u001b[0m\u001b[0;32m      4\u001b[0m \u001b[1;32melse\u001b[0m\u001b[1;33m:\u001b[0m\u001b[1;33m\u001b[0m\u001b[1;33m\u001b[0m\u001b[0m\n\u001b[0;32m      5\u001b[0m     \u001b[0mprint\u001b[0m\u001b[1;33m(\u001b[0m\u001b[1;34m\"there is no item in dictionary\"\u001b[0m\u001b[1;33m)\u001b[0m\u001b[1;33m\u001b[0m\u001b[1;33m\u001b[0m\u001b[0m\n",
      "\u001b[1;31mNameError\u001b[0m: name 'name' is not defined"
     ]
    }
   ],
   "source": [
    "dict_1.items()\n",
    "if 'name' in dict_1:\n",
    "    print(\"Yes name in the dict_1 dictionary\",)\n",
    "else:\n",
    "    print(\"there is no item in dictionary\")"
   ]
  },
  {
   "cell_type": "code",
   "execution_count": null,
   "id": "9090c056",
   "metadata": {},
   "outputs": [],
   "source": []
  }
 ],
 "metadata": {
  "kernelspec": {
   "display_name": "Python 3 (ipykernel)",
   "language": "python",
   "name": "python3"
  },
  "language_info": {
   "codemirror_mode": {
    "name": "ipython",
    "version": 3
   },
   "file_extension": ".py",
   "mimetype": "text/x-python",
   "name": "python",
   "nbconvert_exporter": "python",
   "pygments_lexer": "ipython3",
   "version": "3.9.7"
  }
 },
 "nbformat": 4,
 "nbformat_minor": 5
}
