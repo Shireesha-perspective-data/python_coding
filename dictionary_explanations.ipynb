{
 "cells": [
  {
   "cell_type": "markdown",
   "id": "015e18df",
   "metadata": {},
   "source": [
    "### Dictionary \n",
    " A dictionary is used to store data values in Key=value pairs.(key=value,key=value.....) and \n",
    "   a dictionary is a collection which is unordered, changeable and indexed\n",
    "\n",
    "  syntax: dict(Keyword argument)"
   ]
  },
  {
   "cell_type": "code",
   "execution_count": 7,
   "id": "735d72d3",
   "metadata": {},
   "outputs": [
    {
     "name": "stdout",
     "output_type": "stream",
     "text": [
      "{'name': 'Ronald', 'age': 46, 'salary': 850000, 'id': 100034567, 'Gender': 'Female'}\n"
     ]
    }
   ],
   "source": [
    "dict_l=dict(name=\"Ronald\",age= 46,salary= 850000,id= 100034567,Gender=\"Female\")\n",
    "print(dict_l)\n"
   ]
  },
  {
   "cell_type": "code",
   "execution_count": 12,
   "id": "9b5e7f11",
   "metadata": {},
   "outputs": [
    {
     "name": "stdout",
     "output_type": "stream",
     "text": [
      "{1: 'roll no', 'name': 'Raman', 'age': 45, 'salary': 23400}\n"
     ]
    }
   ],
   "source": [
    "dict_1={1:\"roll no\",'name':\"Raman\",'age':45,'salary':23400}\n",
    "print(dict_1)"
   ]
  },
  {
   "cell_type": "code",
   "execution_count": 14,
   "id": "2c1806af",
   "metadata": {},
   "outputs": [
    {
     "data": {
      "text/plain": [
       "dict_keys([1, 'name', 'age', 'salary'])"
      ]
     },
     "execution_count": 14,
     "metadata": {},
     "output_type": "execute_result"
    }
   ],
   "source": [
    "dict_1.keys()"
   ]
  },
  {
   "cell_type": "code",
   "execution_count": 16,
   "id": "8f99c62c",
   "metadata": {},
   "outputs": [
    {
     "data": {
      "text/plain": [
       "dict_values(['roll no', 'Raman', 45, 23400])"
      ]
     },
     "execution_count": 16,
     "metadata": {},
     "output_type": "execute_result"
    }
   ],
   "source": [
    "dict_1.values()"
   ]
  },
  {
   "cell_type": "code",
   "execution_count": 19,
   "id": "5b8eadf7",
   "metadata": {},
   "outputs": [
    {
     "name": "stdout",
     "output_type": "stream",
     "text": [
      "{1: 'roll no', 'name': 'Raman', 'age': 45, 'salary': 23400, 'color': 'blue'}\n"
     ]
    }
   ],
   "source": [
    "dict_1['name']\n",
    "dict_1['color']='blue'\n",
    "print(dict_1)"
   ]
  },
  {
   "cell_type": "code",
   "execution_count": 26,
   "id": "ef93b555",
   "metadata": {},
   "outputs": [
    {
     "name": "stdout",
     "output_type": "stream",
     "text": [
      "{1: 'roll no', 'name': 'Raman', 'age': 45, 'salary': 23400, 'color': 'blue', 0: 'ele'}\n",
      "6\n",
      "<class 'dict'>\n"
     ]
    }
   ],
   "source": [
    "dict_1[0]=\"ele\"\n",
    "print(dict_1)\n",
    "print(len(dict_1))\n",
    "print(type(dict_1))"
   ]
  },
  {
   "cell_type": "code",
   "execution_count": 29,
   "id": "4d8d2303",
   "metadata": {},
   "outputs": [
    {
     "data": {
      "text/plain": [
       "'ele'"
      ]
     },
     "execution_count": 29,
     "metadata": {},
     "output_type": "execute_result"
    }
   ],
   "source": [
    "dict_1['name']\n",
    "dict_1[0]\n"
   ]
  },
  {
   "cell_type": "code",
   "execution_count": 31,
   "id": "a98b07a8",
   "metadata": {},
   "outputs": [
    {
     "data": {
      "text/plain": [
       "'Raman'"
      ]
     },
     "execution_count": 31,
     "metadata": {},
     "output_type": "execute_result"
    }
   ],
   "source": [
    "dict_1.get('name')"
   ]
  },
  {
   "cell_type": "code",
   "execution_count": null,
   "id": "a0e80012",
   "metadata": {},
   "outputs": [],
   "source": []
  }
 ],
 "metadata": {
  "kernelspec": {
   "display_name": "Python 3 (ipykernel)",
   "language": "python",
   "name": "python3"
  },
  "language_info": {
   "codemirror_mode": {
    "name": "ipython",
    "version": 3
   },
   "file_extension": ".py",
   "mimetype": "text/x-python",
   "name": "python",
   "nbconvert_exporter": "python",
   "pygments_lexer": "ipython3",
   "version": "3.9.7"
  }
 },
 "nbformat": 4,
 "nbformat_minor": 5
}
