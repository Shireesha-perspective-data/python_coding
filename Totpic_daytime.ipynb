{
 "cells": [
  {
   "cell_type": "markdown",
   "id": "dc2e2acf",
   "metadata": {},
   "source": [
    "# Topics   \n",
    "###### Functions\n",
    "   ##########Operators- Arithmetic,logical ,Bitwise ,Assignment Operators\\n\\n\n",
    "   #######OOPs Concepts- Classes & Object ,Inheritance(Multi),Overriding & Overloading\\n\\n\n",
    "   ########Exceptional Handling \\n\\n\n",
    "   #########Import Statement (Modules Packages)\\n\n",
    "   #########Variable Scope: Global Local,Static & Instance\\n\n",
    "   ##########Lambda Function \\n\n",
    "   ###########Print Style Statement \\n\n",
    "   ###########One-line Conditional Ststement ,One-line Conditional Functional Ststements\\n\n",
    "   ###########Comprehendive List ,Tuple,Dictionary,(Enhanced for-loop)\n",
    "      for-loop& While-loop\n",
    "      Conditional Statements\n",
    "      Data Structures-List,Tuple,Dictionary and Regular Expressions'''"
   ]
  },
  {
   "cell_type": "markdown",
   "id": "60e0512f",
   "metadata": {},
   "source": [
    " ### OPPs concept:\n",
    "     object-oriented programming which is based on objects rather than just functions and procedures.\n",
    "     individual objects are grouped into classes\n",
    "     .....>Opps concept is nothing but process and just a function\n",
    "     *main feature of opps is \"Inheritance,Encapsulation,Polymorphism,Abstration\"\n",
    "     *Object is the real world entity which is basic unit of oops eg:apple,mango or house..\n",
    " *class is like an Outterline for creating a new object\n",
    "        class is the outline for creating a new object\n",
    "        \n",
    "        "
   ]
  },
  {
   "cell_type": "code",
   "execution_count": 1,
   "id": "0fc48533",
   "metadata": {},
   "outputs": [
    {
     "name": "stdout",
     "output_type": "stream",
     "text": [
      "mammal\n",
      "I'm a mammal\n",
      "I'm a dog\n"
     ]
    }
   ],
   "source": [
    "class Dog:\n",
    "     \n",
    "    # A simple class\n",
    "    # attribute\n",
    "    attr1 = \"mammal\"\n",
    "    attr2 = \"dog\"\n",
    " \n",
    "    # A sample method \n",
    "    def fun(self):\n",
    "        print(\"I'm a\", self.attr1)\n",
    "        print(\"I'm a\", self.attr2)\n",
    " \n",
    "# Driver code\n",
    "# Object instantiation\n",
    "Rodger = Dog()\n",
    " \n",
    "# Accessing class attributes\n",
    "# and method through objects\n",
    "print(Rodger.attr1)  #here we accessing the class attribute(/instances variable)and th \n",
    "Rodger.fun()"
   ]
  },
  {
   "cell_type": "markdown",
   "id": "605542da",
   "metadata": {},
   "source": [
    "# class is a outerline for creating a new object.\n",
    " every time class object is instantiating.\n",
    " # Object is the blueprint of a  class,like human,house is the best example "
   ]
  },
  {
   "cell_type": "markdown",
   "id": "32618591",
   "metadata": {},
   "source": [
    " # Q:what is diference of dictionary vs set\n",
    "'''\n",
    "what is the  diferrence b/w in set and dictionary?\n",
    "  *dictionary is mutable;it contains the key value pairs.dictionary is define as {key:value}\n",
    "  *it can easily or fast to data understanding .\n",
    "  \n",
    "*set is the mutable. it also used to store the multiple items in a single variable.it doesn't consider as the duplicate values.denoted as {}.\n",
    " set as the mutable .it does not consider the slicing.\n",
    "  \n",
    "'''"
   ]
  },
  {
   "cell_type": "code",
   "execution_count": null,
   "id": "1209f3e9",
   "metadata": {},
   "outputs": [],
   "source": []
  }
 ],
 "metadata": {
  "kernelspec": {
   "display_name": "Python 3 (ipykernel)",
   "language": "python",
   "name": "python3"
  },
  "language_info": {
   "codemirror_mode": {
    "name": "ipython",
    "version": 3
   },
   "file_extension": ".py",
   "mimetype": "text/x-python",
   "name": "python",
   "nbconvert_exporter": "python",
   "pygments_lexer": "ipython3",
   "version": "3.9.7"
  }
 },
 "nbformat": 4,
 "nbformat_minor": 5
}
